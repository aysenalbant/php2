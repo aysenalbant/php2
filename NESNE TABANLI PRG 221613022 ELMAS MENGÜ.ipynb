{
 "cells": [
  {
   "cell_type": "code",
   "execution_count": null,
   "id": "da38291e",
   "metadata": {},
   "outputs": [],
   "source": [
    "\n",
    "class DHondtSystem:\n",
    "    def _init_(self, nufus, oy_oranlari, mv_sayilari):\n",
    "        self.nufus = nufus\n",
    "        self.oy_oranlari = oy_oranlari\n",
    "        self.mv_sayilari = mv_sayilari\n",
    "        self.parti_sayisi = len(oy_oranlari)\n",
    "        self.mv_dagilimi = {}\n",
    "\n",
    "    def oy_sayilarini_hesapla(self):\n",
    "        oy_sayilari = []\n",
    "        for i in range(self.parti_sayisi):\n",
    "            oy_sayisi = self.oy_oranlari[i] * self.nufus\n",
    "            oy_sayilari.append(oy_sayisi)\n",
    "        return oy_sayilari\n",
    "\n",
    "    def mv_dagilimi_hesapla(self):\n",
    "        oy_sayilari = self.oy_sayilarini_hesapla()\n",
    "\n",
    "        while sum(self.mv_dagilimi.values()) < self.mv_sayilari:\n",
    "            en_yuksek_oy = max(oy_sayilari)\n",
    "            index = oy_sayilari.index(en_yuksek_oy)\n",
    "            parti = chr(ord('A') + index)\n",
    "            parti=chr(ord('B')+index)\n",
    "            parti=chr(ord('C')+index)\n",
    "            if parti in self.mv_dagilimi:\n",
    "                self.mv_dagilimi[parti] += 1\n",
    "            else:\n",
    "                self.mv_dagilimi[parti] = 1\n",
    "\n",
    "            oy_sayilari[index] = self.oy_oranlari[index] * self.nufus / (self.mv_dagilimi[parti] + 1)\n",
    "            \n",
    "        return(self.mv_dagilimi)    \n",
    "\n",
    "        for i in range(self.parti_sayisi):\n",
    "            parti = chr(ord('A') + i)\n",
    "            parti=chr(ord('B')+i)\n",
    "            parti=chr(ord('C')+i)\n",
    "            if parti not in self.mv_dagilimi:\n",
    "                self.mv_dagilimi[parti] = 0\n",
    "        for parti, mv_sayisi in mv_dagilimi.items():\n",
    "            print(f\"{parti} Partisi: {mv_sayisi} milletvekili\")\n",
    "            \n",
    "        return(self.mv_dagilimi)       \n",
    "    \n",
    "\n",
    "\n",
    "# Örnek kullanım\n",
    "nufus = 635169\n",
    "oy_oranlari = [0, 0.07, 0.93]\n",
    "mv_sayilari = 1\n",
    "oy_sayisi=[0,44461,590707]"
   ]
  },
  {
   "cell_type": "code",
   "execution_count": null,
   "id": "2153207e",
   "metadata": {},
   "outputs": [],
   "source": []
  }
 ],
 "metadata": {
  "kernelspec": {
   "display_name": "Python 3 (ipykernel)",
   "language": "python",
   "name": "python3"
  },
  "language_info": {
   "codemirror_mode": {
    "name": "ipython",
    "version": 3
   },
   "file_extension": ".py",
   "mimetype": "text/x-python",
   "name": "python",
   "nbconvert_exporter": "python",
   "pygments_lexer": "ipython3",
   "version": "3.10.9"
  }
 },
 "nbformat": 4,
 "nbformat_minor": 5
}
